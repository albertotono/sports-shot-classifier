{
 "cells": [
  {
   "cell_type": "code",
   "execution_count": 1,
   "metadata": {},
   "outputs": [],
   "source": [
    "from fastai2.vision.all import *\n",
    "from fastai2.vision.widgets import *\n",
    "import requests\n",
    "from http import HTTPStatus\n",
    "from io import BytesIO"
   ]
  },
  {
   "cell_type": "code",
   "execution_count": 21,
   "metadata": {},
   "outputs": [],
   "source": [
    "def load_remote_model(model_url:str):\n",
    "    response = requests.get(model_url)\n",
    "    if response.status_code != HTTPStatus.OK:\n",
    "        print(f\"Error Downloading Model, status: {response.status_code}\")\n",
    "        return None\n",
    "    return load_learner(BytesIO(response.content), cpu=True)\n",
    "\n",
    "def load_remote_img_bytes(img_url:str):\n",
    "    try:\n",
    "        response = requests.get(img_url)\n",
    "    except Exception as e:\n",
    "        print(f\"Error while loading image: {e}\")\n",
    "        return None\n",
    "    if response.status_code != HTTPStatus.OK:\n",
    "        print(f\"Error Downloading Img, status: {response.status_code}\")\n",
    "        return None\n",
    "    img = Image.open(BytesIO(response.content))\n",
    "    buf = BytesIO()\n",
    "    img_url = img_url.lower()\n",
    "    if img_url.endswith('jpg') or img_url.endswith('jpeg'):\n",
    "        img.save(buf, format='JPEG')\n",
    "    elif img_url.endswith('png'):\n",
    "        img.save(buf, format='PNG')\n",
    "    elif img_url.endswith('webp'):\n",
    "        img.save(buf, format='WEBP')\n",
    "    elif img_url.endswith('bmp'):\n",
    "        img.save(buf, format='BMP')\n",
    "    elif img_url.endswith('gif'):\n",
    "        img.save(buf, format='GIF')\n",
    "    elif img_url.endswith('tiff'):\n",
    "        img.save(buf, format='TIFF')\n",
    "    else:\n",
    "        print(\"Reading as a JPEG Image\")\n",
    "        img.save(buf, format='JPEG')\n",
    "    return buf.getvalue()"
   ]
  },
  {
   "cell_type": "code",
   "execution_count": 3,
   "metadata": {},
   "outputs": [],
   "source": [
    "model_url = \"https://mobile-random-stuff.s3.amazonaws.com/tennis_with_clean_01.pkl\"\n",
    "learn_model = load_remote_model(model_url)"
   ]
  },
  {
   "cell_type": "code",
   "execution_count": 22,
   "metadata": {},
   "outputs": [],
   "source": [
    "txt = widgets.Text(value=\"\", placeholder=\"\", disabled=False)\n",
    "btn_classify = widgets.Button(description='Classify')\n",
    "btn_upload = widgets.FileUpload()\n",
    "label1 = widgets.Label(value=\"Enter Image URL Below\")\n",
    "label2 = widgets.Label(value=\"OR UPLOAD an Image: jpeg, png, webp only\")\n",
    "out_pl = widgets.Output()\n",
    "lbl_pred = widgets.Label(value=\"Out Results\")"
   ]
  },
  {
   "cell_type": "code",
   "execution_count": 23,
   "metadata": {},
   "outputs": [],
   "source": [
    "def add_image_pred(img):\n",
    "    out_pl.clear_output()\n",
    "    with out_pl: display(img.to_thumb(256,256))\n",
    "    lbl_pred.value = \"Running Prediction Model!\"    \n",
    "    pred,pred_idx,probs = learn_model.predict(img)\n",
    "    lbl_pred.value = f'Prediction: {pred}; Probability: {probs[pred_idx]:.04f}'"
   ]
  },
  {
   "cell_type": "code",
   "execution_count": 24,
   "metadata": {},
   "outputs": [],
   "source": [
    "def on_upload(change):\n",
    "    lbl_pred.value = \"Computing the Inference\"\n",
    "    img = PILImage.create(btn_upload.data[-1])\n",
    "    add_image_pred(img)"
   ]
  },
  {
   "cell_type": "code",
   "execution_count": 25,
   "metadata": {},
   "outputs": [],
   "source": [
    "def on_classify_click(change):\n",
    "    url = txt.value\n",
    "    lbl_pred.value = \"Computing the Inference\"\n",
    "    data = load_remote_img_bytes(url)\n",
    "    if data:\n",
    "        img = PILImage.create(data)\n",
    "        add_image_pred(img)"
   ]
  },
  {
   "cell_type": "code",
   "execution_count": 26,
   "metadata": {},
   "outputs": [],
   "source": [
    "btn_upload.observe(on_upload, names=['data'])\n",
    "btn_classify.on_click(on_classify_click)"
   ]
  },
  {
   "cell_type": "markdown",
   "metadata": {},
   "source": [
    "## The Amazing Tennis Classifier!\n",
    "Enter an Image URL or Upload an Image to classify images into 4 different tennis actions: Forehand, Backhand, Serve, Smash. The Images should be JPEG, PNG, WEBP, BMP, TIFF or GIF.  "
   ]
  },
  {
   "cell_type": "code",
   "execution_count": 27,
   "metadata": {},
   "outputs": [
    {
     "data": {
      "application/vnd.jupyter.widget-view+json": {
       "model_id": "d8967c2025274c849aa407f88f98c3bf",
       "version_major": 2,
       "version_minor": 0
      },
      "text/plain": [
       "VBox(children=(Label(value='Enter Image URL Below'), HBox(children=(Text(value='', placeholder=''), Button(des…"
      ]
     },
     "metadata": {},
     "output_type": "display_data"
    },
    {
     "name": "stdout",
     "output_type": "stream",
     "text": [
      "Error while loading image: Invalid URL 'bdodu': No schema supplied. Perhaps you meant http://bdodu?\n"
     ]
    }
   ],
   "source": [
    "VBox([label1, HBox([txt, btn_classify]), label2, btn_upload, out_pl, lbl_pred])"
   ]
  }
 ],
 "metadata": {
  "kernelspec": {
   "display_name": "Python 3",
   "language": "python",
   "name": "python3"
  },
  "language_info": {
   "codemirror_mode": {
    "name": "ipython",
    "version": 3
   },
   "file_extension": ".py",
   "mimetype": "text/x-python",
   "name": "python",
   "nbconvert_exporter": "python",
   "pygments_lexer": "ipython3",
   "version": "3.7.6"
  }
 },
 "nbformat": 4,
 "nbformat_minor": 4
}
